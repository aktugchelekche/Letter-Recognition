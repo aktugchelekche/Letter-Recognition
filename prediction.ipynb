{
 "cells": [
  {
   "cell_type": "code",
   "execution_count": 1,
   "metadata": {},
   "outputs": [],
   "source": [
    "# import libraries\n",
    "\n",
    "import numpy as np\n",
    "import pandas as pd\n",
    "import matplotlib.pyplot as plt\n",
    "\n",
    "\n"
   ]
  },
  {
   "cell_type": "code",
   "execution_count": 2,
   "metadata": {},
   "outputs": [
    {
     "name": "stderr",
     "output_type": "stream",
     "text": [
      "2022-06-14 23:09:20.216323: I tensorflow/core/platform/cpu_feature_guard.cc:193] This TensorFlow binary is optimized with oneAPI Deep Neural Network Library (oneDNN) to use the following CPU instructions in performance-critical operations:  AVX2 FMA\n",
      "To enable them in other operations, rebuild TensorFlow with the appropriate compiler flags.\n"
     ]
    }
   ],
   "source": [
    "from tensorflow.keras.models import load_model\n",
    "\n",
    "# Load the trained model\n",
    "trained_model = load_model(\"character_recog_model.h5\")\n",
    "\n",
    "# Recompile the model \n",
    "trained_model.compile(optimizer=\"adam\", loss=\"binary_crossentropy\", metrics = [\"accuracy\"])"
   ]
  },
  {
   "cell_type": "code",
   "execution_count": 3,
   "metadata": {},
   "outputs": [],
   "source": [
    "# Create words dictionary\n",
    "\n",
    "words = {0:'A',1:'B',2:'C',3:'D',4:'E',5:'F',6:'G',7:'H',8:'I',9:'J',10:'K',11:'L',12:'M',13:'N',14:'O',15:'P',16:'Q',17:'R',18:'S',19:'T',20:'U',21:'V',22:'W',23:'X', 24:'Y',25:'Z'}"
   ]
  },
  {
   "cell_type": "code",
   "execution_count": 4,
   "metadata": {},
   "outputs": [
    {
     "name": "stdout",
     "output_type": "stream",
     "text": [
      "1/1 [==============================] - 0s 419ms/step\n",
      "The prediction is: C\n"
     ]
    }
   ],
   "source": [
    "import cv2\n",
    "\n",
    "# Function to predict letter characters using the trained model\n",
    "def predict_letter(img_path):\n",
    "    # Read the image using cv2\n",
    "    image = cv2.imread(img_path)\n",
    "\n",
    "    # make copy of original image, copy will be used to change colors\n",
    "    image_copy = image.copy()\n",
    "\n",
    "    # convert image to RGB using cvtColor\n",
    "    image = cv2.cvtColor(image, cv2.COLOR_BGR2RGB)\n",
    "\n",
    "    # Resize image to 400 x 400 size\n",
    "    image = cv2.resize(image, (400,400))\n",
    "\n",
    "    # Add blur to image and greyscale (need to greyscale as cv.threshold needs greyscale images)\n",
    "    image_copy = cv2.GaussianBlur(image_copy, (7,7), 0)\n",
    "    grey_image = cv2.cvtColor(image_copy, cv2.COLOR_BGR2GRAY)\n",
    "\n",
    "\n",
    "    # Separate object from background pixels using thresholding\n",
    "    # https://docs.opencv.org/4.x/d7/d4d/tutorial_py_thresholding.html\n",
    "    _, img_thresh = cv2.threshold(grey_image, 100, 255, cv2.THRESH_BINARY_INV)\n",
    "\n",
    "    # Resize and reshape image to fit trained_model requirements\n",
    "    final_image = cv2.resize(img_thresh, (28,28))\n",
    "    final_image = np.reshape(final_image, (1, 28, 28, 1))\n",
    "\n",
    "    # Make prediction using the trained_model\n",
    "    prediction = words[np.argmax(trained_model.predict(final_image))]\n",
    "\n",
    "    print(f\"The prediction is: {prediction}\" )\n",
    "\n",
    "\n",
    "predict_letter(\"C.png\")  \n"
   ]
  },
  {
   "cell_type": "code",
   "execution_count": null,
   "metadata": {},
   "outputs": [],
   "source": []
  }
 ],
 "metadata": {
  "kernelspec": {
   "display_name": "mlenv",
   "language": "python",
   "name": "mlenv"
  },
  "language_info": {
   "codemirror_mode": {
    "name": "ipython",
    "version": 3
   },
   "file_extension": ".py",
   "mimetype": "text/x-python",
   "name": "python",
   "nbconvert_exporter": "python",
   "pygments_lexer": "ipython3",
   "version": "3.7.13"
  },
  "orig_nbformat": 4
 },
 "nbformat": 4,
 "nbformat_minor": 2
}
